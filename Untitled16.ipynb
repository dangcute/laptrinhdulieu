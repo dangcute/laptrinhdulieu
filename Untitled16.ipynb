{
  "nbformat": 4,
  "nbformat_minor": 0,
  "metadata": {
    "colab": {
      "name": "Untitled16.ipynb",
      "provenance": [],
      "mount_file_id": "1lqUqKht-HxTNPCsTuxhIh_VMRw9bdgav",
      "authorship_tag": "ABX9TyPWZmG9Ev3p4mv3OqcvoYWb",
      "include_colab_link": true
    },
    "kernelspec": {
      "name": "python3",
      "display_name": "Python 3"
    }
  },
  "cells": [
    {
      "cell_type": "markdown",
      "metadata": {
        "id": "view-in-github",
        "colab_type": "text"
      },
      "source": [
        "<a href=\"https://colab.research.google.com/github/dangcute/laptrinhdulieu/blob/main/Untitled16.ipynb\" target=\"_parent\"><img src=\"https://colab.research.google.com/assets/colab-badge.svg\" alt=\"Open In Colab\"/></a>"
      ]
    },
    {
      "cell_type": "code",
      "metadata": {
        "colab": {
          "base_uri": "https://localhost:8080/",
          "height": 911
        },
        "id": "QIMMU90z0cLZ",
        "outputId": "ff4c7b59-14be-49d6-82de-16c4a75d3d5a"
      },
      "source": [
        "import pandas as pd\r\n",
        "import numpy as np\r\n",
        "import matplotlib.pyplot as plt\r\n",
        "import math\r\n",
        "from scipy.stats import norm, t\r\n",
        "data= pd.read_csv(\"/content/drive/MyDrive/PISA_VN_2015.csv\")\r\n",
        "#cau a\r\n",
        "print(\"CAU A\")\r\n",
        "a= data.head(5)\r\n",
        "b= data.tail(3)\r\n",
        "print(a,b)\r\n",
        "#cau b\r\n",
        "print(\"CAU B\")\r\n",
        "central= data[data['REGION']=='CENTRAL']\r\n",
        "N= len(data)\r\n",
        "n= len(central)\r\n",
        "pt= round(n/N*100,2)\r\n",
        "print(\"--------------------------------------\")\r\n",
        "print(\"| Vung    | So hoc sinh  | Phan tram |\")\r\n",
        "print(\"--------------------------------------\")\r\n",
        "print(\"| CENTRAL | {}         | {}%    |\".format(n,pt))\r\n",
        "print(\"--------------------------------------\")\r\n",
        "#cau c\r\n",
        "print(\"CAU C\")\r\n",
        "TB_Toan= round(data['PV1MATH'].mean(),4)\r\n",
        "dlc_Toan= round(data['PV1MATH'].std(),4)\r\n",
        "TB_Doc= round(data['PV1READ'].mean(),4)\r\n",
        "dlc_Doc= round(data['PV1READ'].std(),4)\r\n",
        "TB_KH= round(data['PV1SCIE'].mean(),4)\r\n",
        "dlc_KH= round(data['PV1SCIE'].std(),4)\r\n",
        "print(\"TB TOAN: {}, Do lech chuan toan: {}\".format(TB_Toan,dlc_Toan))\r\n",
        "print(\"TB Doc: {}, Do lech chuan Doc: {}\".format(TB_Doc,dlc_Doc))\r\n",
        "print(\"TB Khoa hoc: {}, Do lech chuan Khoa hoc: {}\".format(TB_KH,dlc_KH))\r\n",
        "#cau d\r\n",
        "print(\"CAU D\")\r\n",
        "urban= data[data['AREA']=='URBAN']\r\n",
        "south_u= urban[urban['REGION']=='SOUTH']\r\n",
        "north_u= urban[urban['REGION']=='NORTH']\r\n",
        "central_u= urban[urban['REGION']=='CENTRAL']\r\n",
        "print(\"N_URBAN_SOUTH:\",len(south_u),\", %_URBAN_SOUTH:\",round(len(south_u)/N*100,2),\"%\")\r\n",
        "print(\"N_URBAN_NORTH:\",len(north_u),\", %_URBAN_NORTH:\",round(len(north_u)/N*100,2),\"%\")\r\n",
        "print(\"N_URBAN_CENTRAL:\",len(central_u),\", %_URBAN_CENTRAL:\",round(len(central_u)/N*100,2),\"%\")\r\n",
        "\r\n",
        "\r\n",
        "rural= data[data['AREA']=='RURAL']\r\n",
        "south_ru= rural[rural['REGION']=='SOUTH']\r\n",
        "north_ru= rural[rural['REGION']=='NORTH']\r\n",
        "central_ru= rural[rural['REGION']=='CENTRAL']\r\n",
        "print(\"N_RURAL_SOUTH:\",len(south_ru),\", %_RURAL_SOUTH:\",round(len(south_ru)/N*100,2),\"%\")\r\n",
        "print(\"N_RURAL_NORTH:\",len(north_ru),\", %_RURAL_NORTH:\",round(len(north_ru)/N*100,2),\"%\")\r\n",
        "print(\"N_RURAL_CENTRAL:\",len(central_ru),\", %_RURAL_CENTRAL:\",round(len(central_ru)/N*100,2),\"%\")\r\n",
        "\r\n",
        "\r\n",
        "remote= data[data['AREA']=='REMOTE']\r\n",
        "south_re= remote[remote['REGION']=='SOUTH']\r\n",
        "north_re= remote[remote['REGION']=='NORTH']\r\n",
        "central_re= remote[remote['REGION']=='CENTRAL']\r\n",
        "print(\"N_REMOTE_SOUTH:\",len(south_re),\", %_REMOTE_SOUTH:\",round(len(south_re)/N*100,2),\"%\")\r\n",
        "print(\"N_REMOTE_NORTH:\",len(north_re),\", %_REMOTE_NORTH:\",round(len(north_re)/N*100,2),\"%\")\r\n",
        "print(\"N_REMOTE_CENTRAL:\",len(central_re),\", %_REMOTE_CENTRAL:\",round(len(central_re)/N*100,2),\"%\")\r\n",
        "#cau e\r\n",
        "print(\"CAU E\")\r\n",
        "index=['URBAN','RURAL','REMOTE']\r\n",
        "so= [len(south_u),len(south_ru),len(south_re)]\r\n",
        "no=[len(north_u),len(north_ru),len(north_re)]\r\n",
        "ce=[len(north_re),len(central_ru),len(central_re)]\r\n",
        "df= pd.DataFrame({'SOUTH':so,'NORTH':no,'CENTRAL':ce},index=index)\r\n",
        "ax= df.plot.bar(rot=0)\r\n",
        "plt.show()\r\n",
        "#cau f\r\n",
        "print(\"CAU F\")\r\n",
        "#1\r\n",
        "TB_MATH_Mau= round(central_u['PV1MATH'].mean(),4)\r\n",
        "dlc_MATH_Mau= round(central_u['PV1MATH'].std(),4)\r\n",
        "print(\"TB Mau:{} ,dlc Mau:{}\".format(TB_MATH_Mau,dlc_MATH_Mau))\r\n",
        "#2\r\n",
        "dotincay= 0.95\r\n",
        "z_alpha_chia2= round(norm.isf((1-dotincay)/2),4)\r\n",
        "epsilon=round((dlc_MATH_Mau*dlc_MATH_Mau)/math.sqrt(n),4)\r\n",
        "print(\"Khoang uoc luong: {} - {}\".format(round(TB_MATH_Mau-epsilon,4),round(TB_MATH_Mau+epsilon,4)))"
      ],
      "execution_count": null,
      "outputs": [
        {
          "output_type": "stream",
          "text": [
            "CAU A\n",
            "   CNTSCHID  CNT  STRATUM  SCHSIZE  ...  PV1SSPH  PV1SSLI  PV1SSES   AREA\n",
            "0  70400001  VNM  VNM0313      883  ...      NaN      NaN      NaN  URBAN\n",
            "1  70400001  VNM  VNM0313      883  ...      NaN      NaN      NaN  URBAN\n",
            "2  70400001  VNM  VNM0313      883  ...      NaN      NaN      NaN  URBAN\n",
            "3  70400001  VNM  VNM0313      883  ...      NaN      NaN      NaN  URBAN\n",
            "4  70400001  VNM  VNM0313      883  ...      NaN      NaN      NaN  URBAN\n",
            "\n",
            "[5 rows x 44 columns]       CNTSCHID  CNT  STRATUM  SCHSIZE  ...  PV1SSPH  PV1SSLI  PV1SSES    AREA\n",
            "5823  70400188  VNM  VNM0103      433  ...      NaN      NaN      NaN  REMOTE\n",
            "5824  70400188  VNM  VNM0103      433  ...      NaN      NaN      NaN  REMOTE\n",
            "5825  70400188  VNM  VNM0103      433  ...      NaN      NaN      NaN  REMOTE\n",
            "\n",
            "[3 rows x 44 columns]\n",
            "CAU B\n",
            "--------------------------------------\n",
            "| Vung    | So hoc sinh  | Phan tram |\n",
            "--------------------------------------\n",
            "| CENTRAL | 2006         | 34.43%    |\n",
            "--------------------------------------\n",
            "CAU C\n",
            "TB TOAN: 496.0808, Do lech chuan toan: 81.5318\n",
            "TB Doc: 489.8802, Do lech chuan Doc: 70.6486\n",
            "TB Khoa hoc: 524.8112, Do lech chuan Khoa hoc: 74.9515\n",
            "CAU D\n",
            "N_URBAN_SOUTH: 1051 , %_URBAN_SOUTH: 18.04 %\n",
            "N_URBAN_NORTH: 1046 , %_URBAN_NORTH: 17.95 %\n",
            "N_URBAN_CENTRAL: 951 , %_URBAN_CENTRAL: 16.32 %\n",
            "N_RURAL_SOUTH: 747 , %_RURAL_SOUTH: 12.82 %\n",
            "N_RURAL_NORTH: 764 , %_RURAL_NORTH: 13.11 %\n",
            "N_RURAL_CENTRAL: 857 , %_RURAL_CENTRAL: 14.71 %\n",
            "N_REMOTE_SOUTH: 64 , %_REMOTE_SOUTH: 1.1 %\n",
            "N_REMOTE_NORTH: 148 , %_REMOTE_NORTH: 2.54 %\n",
            "N_REMOTE_CENTRAL: 198 , %_REMOTE_CENTRAL: 3.4 %\n",
            "CAU E\n"
          ],
          "name": "stdout"
        },
        {
          "output_type": "display_data",
          "data": {
            "image/png": "[encoded data removed]",
            "text/plain": [
              "<Figure size 432x288 with 1 Axes>"
            ]
          },
          "metadata": {
            "tags": [],
            "needs_background": "light"
          }
        },
        {
          "output_type": "stream",
          "text": [
            "CAU F\n",
            "TB Mau:489.2754 ,dlc Mau:75.8054\n",
            "Khoang uoc luong: 360.973 - 617.5778\n"
          ],
          "name": "stdout"
        }
      ]
    }
  ]
}