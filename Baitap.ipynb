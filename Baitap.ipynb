{
  "nbformat": 4,
  "nbformat_minor": 0,
  "metadata": {
    "colab": {
      "name": "Untitled2.ipynb",
      "provenance": [],
      "collapsed_sections": [],
      "include_colab_link": true
    },
    "kernelspec": {
      "name": "python3",
      "display_name": "Python 3"
    }
  },
  "cells": [
    {
      "cell_type": "markdown",
      "metadata": {
        "id": "view-in-github",
        "colab_type": "text"
      },
      "source": [
        "<a href=\"https://colab.research.google.com/github/dangcute/laptrinhdulieu/blob/main/Baitap.ipynb\" target=\"_parent\"><img src=\"https://colab.research.google.com/assets/colab-badge.svg\" alt=\"Open In Colab\"/></a>"
      ]
    },
    {
      "cell_type": "code",
      "metadata": {
        "colab": {
          "base_uri": "https://localhost:8080/"
        },
        "id": "MluCVXseDwMZ",
        "outputId": "c9daf956-d1d7-412b-c75e-d15aecd81159"
      },
      "source": [
        "q=[29, 32, 46,8]\r\n",
        "print(len(q))"
      ],
      "execution_count": null,
      "outputs": [
        {
          "output_type": "stream",
          "text": [
            "4\n"
          ],
          "name": "stdout"
        }
      ]
    },
    {
      "cell_type": "code",
      "metadata": {
        "colab": {
          "base_uri": "https://localhost:8080/"
        },
        "id": "w3CQBl3NR_dV",
        "outputId": "5c13c8f3-f3b3-4f6c-9fe6-a377ba649f36"
      },
      "source": [
        "y=[12, 1, 16, 1]\r\n",
        "y=list(reversed(y))\r\n",
        "print(y)"
      ],
      "execution_count": null,
      "outputs": [
        {
          "output_type": "stream",
          "text": [
            "[1, 16, 1, 12]\n"
          ],
          "name": "stdout"
        }
      ]
    },
    {
      "cell_type": "code",
      "metadata": {
        "colab": {
          "base_uri": "https://localhost:8080/"
        },
        "id": "azwRiBSeU_UZ",
        "outputId": "6acfc205-e6a0-46e0-8b42-d2115cc2e073"
      },
      "source": [
        "foo =[6.5, \"A\", \"B\", 'thu', -7]\r\n",
        "foo[1:3]=[2.75, -1.5]\r\n",
        "print(foo)"
      ],
      "execution_count": null,
      "outputs": [
        {
          "output_type": "stream",
          "text": [
            "[6.5, 2.75, -1.5, 'thu', -7]\n"
          ],
          "name": "stdout"
        }
      ]
    },
    {
      "cell_type": "code",
      "metadata": {
        "colab": {
          "base_uri": "https://localhost:8080/"
        },
        "id": "w-jMZjoft7n1",
        "outputId": "8d5b42b0-ad96-434a-a746-2db44ef71f21"
      },
      "source": [
        "import numpy as np\r\n",
        "x = np.array([6, 1, 9, 9, 3])\r\n",
        "bool_x = x > 5\r\n",
        "print(bool_x)"
      ],
      "execution_count": null,
      "outputs": [
        {
          "output_type": "stream",
          "text": [
            "[ True False  True  True False]\n"
          ],
          "name": "stdout"
        }
      ]
    },
    {
      "cell_type": "code",
      "metadata": {
        "colab": {
          "base_uri": "https://localhost:8080/"
        },
        "id": "TWUR5bPevW36",
        "outputId": "b2e88fe1-cfbb-4d67-b884-658beea4c838"
      },
      "source": [
        "q= 0.26994\r\n",
        "print(round(q, 0))"
      ],
      "execution_count": null,
      "outputs": [
        {
          "output_type": "stream",
          "text": [
            "0.0\n"
          ],
          "name": "stdout"
        }
      ]
    },
    {
      "cell_type": "code",
      "metadata": {
        "colab": {
          "base_uri": "https://localhost:8080/"
        },
        "id": "9Be4HtDtv6FR",
        "outputId": "527198e7-eb20-4cff-f387-8c356c50705e"
      },
      "source": [
        "q = [36, 15, 12, 38]\r\n",
        "print(q[-2])"
      ],
      "execution_count": null,
      "outputs": [
        {
          "output_type": "stream",
          "text": [
            "12\n"
          ],
          "name": "stdout"
        }
      ]
    },
    {
      "cell_type": "code",
      "metadata": {
        "colab": {
          "base_uri": "https://localhost:8080/"
        },
        "id": "pf7_H1C8y5aK",
        "outputId": "6b355250-78b7-45c2-9584-af7dbaf2535d"
      },
      "source": [
        "q= 9.87048\r\n",
        "print(round(q, 0))"
      ],
      "execution_count": null,
      "outputs": [
        {
          "output_type": "stream",
          "text": [
            "10.0\n"
          ],
          "name": "stdout"
        }
      ]
    },
    {
      "cell_type": "code",
      "metadata": {
        "colab": {
          "base_uri": "https://localhost:8080/"
        },
        "id": "IU3OkHiLzVoZ",
        "outputId": "7648f924-993b-4474-b46b-b8c20ad94b93"
      },
      "source": [
        "x=[6, 2, 7, 19, 7, 14, 0]\r\n",
        "print(x[-3] + x[-4])"
      ],
      "execution_count": null,
      "outputs": [
        {
          "output_type": "stream",
          "text": [
            "26\n"
          ],
          "name": "stdout"
        }
      ]
    },
    {
      "cell_type": "code",
      "metadata": {
        "colab": {
          "base_uri": "https://localhost:8080/"
        },
        "id": "xYXMJbyD0PxS",
        "outputId": "4b40f017-9682-4584-f3e3-91930b1e0565"
      },
      "source": [
        "import numpy as np\r\n",
        "z = np.array([[5, 0, 2], [3, 1, 1]])\r\n",
        "print(z[0:, 1:])"
      ],
      "execution_count": null,
      "outputs": [
        {
          "output_type": "stream",
          "text": [
            "[[0 2]\n",
            " [1 1]]\n"
          ],
          "name": "stdout"
        }
      ]
    },
    {
      "cell_type": "code",
      "metadata": {
        "colab": {
          "base_uri": "https://localhost:8080/"
        },
        "id": "zsHjwG1r28zU",
        "outputId": "a90b5f07-1f73-48ae-d4b8-2c74a8863558"
      },
      "source": [
        "import numpy as np\r\n",
        "z= np.array([[8, 6, 6], [6, 4, 2]])\r\n",
        "print(z[1:, 2:])"
      ],
      "execution_count": null,
      "outputs": [
        {
          "output_type": "stream",
          "text": [
            "[[2]]\n"
          ],
          "name": "stdout"
        }
      ]
    },
    {
      "cell_type": "code",
      "metadata": {
        "colab": {
          "base_uri": "https://localhost:8080/"
        },
        "id": "Wxsl17ls3VCS",
        "outputId": "3fadfd07-4819-4f92-f829-43c21f263a46"
      },
      "source": [
        "x = ['u', 'c', 'w', 'b', 'v', 'i']\r\n",
        "print(x[1:5])"
      ],
      "execution_count": null,
      "outputs": [
        {
          "output_type": "stream",
          "text": [
            "['c', 'w', 'b', 'v']\n"
          ],
          "name": "stdout"
        }
      ]
    },
    {
      "cell_type": "code",
      "metadata": {
        "colab": {
          "base_uri": "https://localhost:8080/"
        },
        "id": "Vo1vAHxI3tMu",
        "outputId": "f81904f2-914a-4108-cbc6-caefab48eb6f"
      },
      "source": [
        "import numpy as np\r\n",
        "z = np.array([[8, 14, 21], [5, 16, 20]])\r\n",
        "print(z[1] [2])"
      ],
      "execution_count": null,
      "outputs": [
        {
          "output_type": "stream",
          "text": [
            "20\n"
          ],
          "name": "stdout"
        }
      ]
    },
    {
      "cell_type": "code",
      "metadata": {
        "colab": {
          "base_uri": "https://localhost:8080/"
        },
        "id": "dKVrpBNC39QP",
        "outputId": "f2b6b0a4-8027-44b0-ee0b-85c6fa34aba5"
      },
      "source": [
        "import numpy as np\r\n",
        "np.array([26, 28, 18, 22])"
      ],
      "execution_count": null,
      "outputs": [
        {
          "output_type": "execute_result",
          "data": {
            "text/plain": [
              "array([26, 28, 18, 22])"
            ]
          },
          "metadata": {
            "tags": []
          },
          "execution_count": 71
        }
      ]
    },
    {
      "cell_type": "code",
      "metadata": {
        "colab": {
          "base_uri": "https://localhost:8080/"
        },
        "id": "5QGfVxc94HFP",
        "outputId": "026bee11-ba37-4660-da05-9a53d35926ee"
      },
      "source": [
        "import numpy as np\r\n",
        "p= np.array([15,2,18,15,7,8])\r\n",
        "print(p[0])"
      ],
      "execution_count": null,
      "outputs": [
        {
          "output_type": "stream",
          "text": [
            "15\n"
          ],
          "name": "stdout"
        }
      ]
    },
    {
      "cell_type": "code",
      "metadata": {
        "colab": {
          "base_uri": "https://localhost:8080/"
        },
        "id": "Q1ilOTKb4dga",
        "outputId": "cf3d416f-4fd9-4867-a2cf-dd4dd86496b9"
      },
      "source": [
        "q=[36]\r\n",
        "print(len(q))"
      ],
      "execution_count": null,
      "outputs": [
        {
          "output_type": "stream",
          "text": [
            "1\n"
          ],
          "name": "stdout"
        }
      ]
    },
    {
      "cell_type": "code",
      "metadata": {
        "colab": {
          "base_uri": "https://localhost:8080/"
        },
        "id": "5VOKmCCT5CWx",
        "outputId": "773abef3-4fc7-486f-8621-bbaac42256db"
      },
      "source": [
        "import numpy as np\r\n",
        "z= np.array([[2,3,3], [4,6,9]])\r\n",
        "print(z[0:, 2:])"
      ],
      "execution_count": null,
      "outputs": [
        {
          "output_type": "stream",
          "text": [
            "[[3]\n",
            " [9]]\n"
          ],
          "name": "stdout"
        }
      ]
    },
    {
      "cell_type": "code",
      "metadata": {
        "colab": {
          "base_uri": "https://localhost:8080/"
        },
        "id": "jhn1xPHz5do0",
        "outputId": "7571b2ef-fd85-4602-ea1a-36cd8b30c846"
      },
      "source": [
        "a=[9.93, 5.92,5.44]\r\n",
        "b=['k','j','k']\r\n",
        "c=[1,1,7]\r\n",
        "print([c,b,a])"
      ],
      "execution_count": null,
      "outputs": [
        {
          "output_type": "stream",
          "text": [
            "[[1, 1, 7], ['k', 'j', 'k'], [9.93, 5.92, 5.44]]\n"
          ],
          "name": "stdout"
        }
      ]
    },
    {
      "cell_type": "code",
      "metadata": {
        "colab": {
          "base_uri": "https://localhost:8080/"
        },
        "id": "DyxyyAa268xk",
        "outputId": "085c3340-abe6-486f-a5b9-08ba362f04ef"
      },
      "source": [
        "import numpy as np\r\n",
        "m= np.array([2,4,6])\r\n",
        "n=2\r\n",
        "print(m-n)"
      ],
      "execution_count": null,
      "outputs": [
        {
          "output_type": "stream",
          "text": [
            "[0 2 4]\n"
          ],
          "name": "stdout"
        }
      ]
    },
    {
      "cell_type": "code",
      "metadata": {
        "colab": {
          "base_uri": "https://localhost:8080/"
        },
        "id": "96kah2Tg7dzN",
        "outputId": "aa449349-33ef-4c4b-8c1f-fd51bae40f63"
      },
      "source": [
        "p=['l','f','x','o','e','q']\r\n",
        "del(p[4])\r\n",
        "print(p)"
      ],
      "execution_count": null,
      "outputs": [
        {
          "output_type": "stream",
          "text": [
            "['l', 'f', 'x', 'o', 'q']\n"
          ],
          "name": "stdout"
        }
      ]
    },
    {
      "cell_type": "code",
      "metadata": {
        "colab": {
          "base_uri": "https://localhost:8080/"
        },
        "id": "NcmsCdZ0ZCJs",
        "outputId": "d867d021-23cd-4e0c-d75c-992e3d96bc0a"
      },
      "source": [
        "p=[[20,\"a\",\"b\"],[\"c\",22,18],[\"d\",\"e\",\"f\"]]\r\n",
        "print(p[1][:1])"
      ],
      "execution_count": null,
      "outputs": [
        {
          "output_type": "stream",
          "text": [
            "['c']\n"
          ],
          "name": "stdout"
        }
      ]
    },
    {
      "cell_type": "code",
      "metadata": {
        "colab": {
          "base_uri": "https://localhost:8080/"
        },
        "id": "0VTf45EGaoXR",
        "outputId": "14b680e2-9888-449d-927e-19758218b43e"
      },
      "source": [
        "import numpy as np\r\n",
        "z= np.array([[4,3,5], [5,8,3]])\r\n",
        "print(z[1, 0])"
      ],
      "execution_count": null,
      "outputs": [
        {
          "output_type": "stream",
          "text": [
            "5\n"
          ],
          "name": "stdout"
        }
      ]
    },
    {
      "cell_type": "code",
      "metadata": {
        "colab": {
          "base_uri": "https://localhost:8080/"
        },
        "id": "iux9WcUvbK6g",
        "outputId": "2c222476-feb9-4ac7-8cdb-9e5debe736bd"
      },
      "source": [
        "q=6.02093\r\n",
        "print(round(q,3))"
      ],
      "execution_count": null,
      "outputs": [
        {
          "output_type": "stream",
          "text": [
            "6.021\n"
          ],
          "name": "stdout"
        }
      ]
    },
    {
      "cell_type": "code",
      "metadata": {
        "colab": {
          "base_uri": "https://localhost:8080/"
        },
        "id": "rIBgX2lwbXic",
        "outputId": "dacb60c4-3911-48ea-ab51-63f0ce44ced0"
      },
      "source": [
        "y=[3,3,16,4]\r\n",
        "y.append(9)\r\n",
        "print(y)"
      ],
      "execution_count": null,
      "outputs": [
        {
          "output_type": "stream",
          "text": [
            "[3, 3, 16, 4, 9]\n"
          ],
          "name": "stdout"
        }
      ]
    },
    {
      "cell_type": "code",
      "metadata": {
        "colab": {
          "base_uri": "https://localhost:8080/"
        },
        "id": "6KE83kHacfqE",
        "outputId": "6af8318b-5193-4cd7-c9ed-8f576a8f9758"
      },
      "source": [
        "x=[False, True, '2', 3.0]\r\n",
        "print(type(x))"
      ],
      "execution_count": null,
      "outputs": [
        {
          "output_type": "stream",
          "text": [
            "<class 'list'>\n"
          ],
          "name": "stdout"
        }
      ]
    },
    {
      "cell_type": "code",
      "metadata": {
        "colab": {
          "base_uri": "https://localhost:8080/"
        },
        "id": "Zf7olAF1dDMU",
        "outputId": "8e1e4c2d-ab04-40b1-f2e2-ca5c89ef4f0c"
      },
      "source": [
        "import numpy as np\r\n",
        "x= np.array([2,12,11,0,6,8])\r\n",
        "print(x[1:3])"
      ],
      "execution_count": null,
      "outputs": [
        {
          "output_type": "stream",
          "text": [
            "[12 11]\n"
          ],
          "name": "stdout"
        }
      ]
    },
    {
      "cell_type": "code",
      "metadata": {
        "colab": {
          "base_uri": "https://localhost:8080/"
        },
        "id": "8wKZYXVndY64",
        "outputId": "ca5f129d-9d1a-4da0-e3ea-9082f1f01e14"
      },
      "source": [
        "p=6\r\n",
        "q=\"p is:\"\r\n",
        "print(q+ str(p))"
      ],
      "execution_count": null,
      "outputs": [
        {
          "output_type": "stream",
          "text": [
            "p is:6\n"
          ],
          "name": "stdout"
        }
      ]
    },
    {
      "cell_type": "code",
      "metadata": {
        "colab": {
          "base_uri": "https://localhost:8080/"
        },
        "id": "yW3zu3uKe8j2",
        "outputId": "886d9354-0aaa-4316-f558-123273a661ba"
      },
      "source": [
        "foo=[0, 5.22, \"A\", \"Tue\", 1.2]\r\n",
        "foo[0:2]='e', 'f'\r\n",
        "print(foo)"
      ],
      "execution_count": null,
      "outputs": [
        {
          "output_type": "stream",
          "text": [
            "['e', 'f', 'A', 'Tue', 1.2]\n"
          ],
          "name": "stdout"
        }
      ]
    },
    {
      "cell_type": "code",
      "metadata": {
        "id": "AQF78xKjfZo_"
      },
      "source": [
        ""
      ],
      "execution_count": null,
      "outputs": []
    }
  ]
}